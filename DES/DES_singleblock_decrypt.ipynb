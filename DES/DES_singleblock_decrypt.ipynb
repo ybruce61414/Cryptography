{
 "cells": [
  {
   "cell_type": "code",
   "execution_count": 1,
   "metadata": {
    "collapsed": false
   },
   "outputs": [
    {
     "name": "stdout",
     "output_type": "stream",
     "text": [
      "Importing Jupyter notebook from subkey_generation.ipynb\n",
      "Importing Jupyter notebook from mangler_function.ipynb\n"
     ]
    },
    {
     "data": {
      "text/plain": [
       "'123456ABCD132536'"
      ]
     },
     "execution_count": 1,
     "metadata": {},
     "output_type": "execute_result"
    }
   ],
   "source": [
    "#DES Decryption \n",
    "'''input 64bits = 8 bytes block'''\n",
    "\n",
    "import nbimporter,os\n",
    "from subkey_generation import sub_key\n",
    "from mangler_function import mangler_func\n",
    "\n",
    "class des_decrypt():\n",
    "    \n",
    "    #initialisation\n",
    "    def __init__(self,cipher_16hex,key_16hex):\n",
    "        #plaintext 64bits is string (in hex form) \n",
    "        self.cipher_16hex = cipher_16hex\n",
    "        self.key_16hex = key_16hex\n",
    "    \n",
    "        self.ip = [58,50,42,34,26,18,10,2,\n",
    "                   60,52,44,36,28,20,12,4,\n",
    "                   62,54,46,38,30,22,14,6,\n",
    "                   64,56,48,40,32,24,16,8,\n",
    "                   57,49,41,33,25,17,9,1,\n",
    "                   59,51,43,35,27,19,11,3,\n",
    "                   61,53,45,37,29,21,13,5,\n",
    "                   63,55,47,39,31,23,15,7]\n",
    "\n",
    "        self.ipinverse = [40,8,48,16,56,24,64,32,\n",
    "                          39,7,47,15,55,23,63,31,\n",
    "                          38,6,46,14,54,22,62,30,\n",
    "                          37,5,45,13,53,21,61,29,\n",
    "                          36,4,44,12,52,20,60,28,\n",
    "                          35,3,43,11,51,19,59,27,\n",
    "                          34,2,42,10,50,18,58,26,\n",
    "                          33,1,41,9,49,17,57,25]\n",
    "        \n",
    "    def ini_permu(self,bit): \n",
    "        ip_64bit = ''\n",
    "        for index in self.ip:\n",
    "            ip_64bit = ip_64bit + bit[index-1]\n",
    "        return ip_64bit   \n",
    "    \n",
    "    def iniver_permu(self,bit):\n",
    "        ipinv_64bit = '' \n",
    "        for index in self.ipinverse:\n",
    "            ipinv_64bit = ipinv_64bit + bit[index-1]\n",
    "        return ipinv_64bit\n",
    "\n",
    "    def split_in_half32(self,bit):\n",
    "        L,R = bit[:32], bit[32:]\n",
    "        return L,R\n",
    "    \n",
    "    def XOR(self,bit1,bit2):\n",
    "        xor_result = ''\n",
    "        for index in range(len(bit1)):\n",
    "            r = (int(bit1[index])+int(bit2[index])) % 2\n",
    "            xor_result = xor_result + str(r)\n",
    "        return xor_result    \n",
    "    \n",
    "    def bin_to_hex(self,bit):\n",
    "        bin_to_decimal = int(bit,2)\n",
    "        decimal_to_hex = hex(bin_to_decimal)[2:].zfill(16)\n",
    "        return decimal_to_hex.upper()\n",
    "    \n",
    "    def hex_to_bin(self,bit):\n",
    "        hex_to_decimal = int(bit,16)\n",
    "        decimal_to_bin = bin(hex_to_decimal)[2:].zfill(64)\n",
    "        return decimal_to_bin\n",
    "    \n",
    "    #-----------decryption-------------\n",
    "    \n",
    "    def generate(self):\n",
    "        #transform hex to bin\n",
    "        ini_64bit = self.hex_to_bin(self.cipher_16hex)\n",
    "        key_64bit = self.hex_to_bin(self.key_16hex)\n",
    "        \n",
    "        #permutation\n",
    "        ip64 = self.ini_permu(ini_64bit)\n",
    "        L0,R0 = self.split_in_half32(ip64)\n",
    "        \n",
    "        '''key generator'''\n",
    "        subkey = sub_key(key_64bit)\n",
    "        roundkey_list = subkey.generate_subkey()\n",
    "        \n",
    "        '''reverse order of keys'''\n",
    "        reverse_key = list()\n",
    "        while roundkey_list:\n",
    "            top = roundkey_list.pop()\n",
    "            reverse_key.append(top)\n",
    "        \n",
    "        '''15 rounds'''\n",
    "        for i in range(15):\n",
    "            f = mangler_func(R0,reverse_key[i])\n",
    "            temp,L0 = L0,R0\n",
    "            R0 = self.XOR(temp,f.generate_f())\n",
    "            \n",
    "        #return self.bin_to_hex(L0+R0)        \n",
    "        \n",
    "        '''16 round (no swapping)'''\n",
    "        f16 = mangler_func(R0,reverse_key[15])\n",
    "        L16,R16 = self.XOR(L0,f16.generate_f()),R0\n",
    "        \n",
    "        #return self.bin_to_hex(L16+R16)\n",
    "        \n",
    "        '''final permutation'''\n",
    "        final_bit = L16 + R16\n",
    "        result = self.iniver_permu(final_bit)\n",
    "        return self.bin_to_hex(result)\n",
    "        \n",
    "\n",
    "key_16hex = 'AABB09182736CCDD'\n",
    "ciphertxt = 'C0B7A8D05F3A829C'\n",
    "\n",
    "decrypt = des_decrypt(ciphertxt,key_16hex)\n",
    "decrypt.generate()\n"
   ]
  },
  {
   "cell_type": "code",
   "execution_count": null,
   "metadata": {
    "collapsed": true
   },
   "outputs": [],
   "source": []
  }
 ],
 "metadata": {
  "anaconda-cloud": {},
  "kernelspec": {
   "display_name": "Python [default]",
   "language": "python",
   "name": "python3"
  },
  "language_info": {
   "codemirror_mode": {
    "name": "ipython",
    "version": 3
   },
   "file_extension": ".py",
   "mimetype": "text/x-python",
   "name": "python",
   "nbconvert_exporter": "python",
   "pygments_lexer": "ipython3",
   "version": "3.5.2"
  }
 },
 "nbformat": 4,
 "nbformat_minor": 2
}
