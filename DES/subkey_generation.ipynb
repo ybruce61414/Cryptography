{
 "cells": [
  {
   "cell_type": "code",
   "execution_count": 1,
   "metadata": {
    "collapsed": false
   },
   "outputs": [
    {
     "data": {
      "text/plain": [
       "['000110110000001011101111111111000111000001110010',\n",
       " '011110011010111011011001110110111100100111100101',\n",
       " '010101011111110010001010010000101100111110011001',\n",
       " '011100101010110111010110110110110011010100011101',\n",
       " '011111001110110000000111111010110101001110101000',\n",
       " '011000111010010100111110010100000111101100101111',\n",
       " '111011001000010010110111111101100001100010111100',\n",
       " '111101111000101000111010110000010011101111111011',\n",
       " '111000001101101111101011111011011110011110000001',\n",
       " '101100011111001101000111101110100100011001001111',\n",
       " '001000010101111111010011110111101101001110000110',\n",
       " '011101010111000111110101100101000110011111101001',\n",
       " '100101111100010111010001111110101011101001000001',\n",
       " '010111110100001110110111111100101110011100111010',\n",
       " '101111111001000110001101001111010011111100001010',\n",
       " '110010110011110110001011000011100001011111110101',\n",
       " '000110110000001011101111111111000111000001110010',\n",
       " '011110011010111011011001110110111100100111100101',\n",
       " '010101011111110010001010010000101100111110011001',\n",
       " '011100101010110111010110110110110011010100011101',\n",
       " '011111001110110000000111111010110101001110101000',\n",
       " '011000111010010100111110010100000111101100101111',\n",
       " '111011001000010010110111111101100001100010111100',\n",
       " '111101111000101000111010110000010011101111111011',\n",
       " '111000001101101111101011111011011110011110000001',\n",
       " '101100011111001101000111101110100100011001001111',\n",
       " '001000010101111111010011110111101101001110000110',\n",
       " '011101010111000111110101100101000110011111101001',\n",
       " '100101111100010111010001111110101011101001000001',\n",
       " '010111110100001110110111111100101110011100111010',\n",
       " '101111111001000110001101001111010011111100001010',\n",
       " '110010110011110110001011000011100001011111110101']"
      ]
     },
     "execution_count": 1,
     "metadata": {},
     "output_type": "execute_result"
    }
   ],
   "source": [
    "#des sub-key\n",
    "\n",
    "class sub_key():\n",
    "    '''input:  64-bit binary string,\n",
    "       output: 16 subkeys string in list'''\n",
    "    #initialisation\n",
    "    def __init__(self,key_64bits):\n",
    "        #key_64bits is string \n",
    "        self.key_64bits = key_64bits\n",
    "        self.round_key = list()\n",
    "        \n",
    "        self.pc1 = [57,49,41,33,25,17,9,1,58,50,42,34,26,18,\n",
    "                    10,2,59,51,43,35,27,19,11,3,60,52,44,36,\n",
    "                    63,55,47,39,31,23,15,7,62,54,46,38,30,22,\n",
    "                    14,6,61,53,45,37,29,21,13,5,28,20,12,4]\n",
    "    \n",
    "        self.pc2 = [14,17,11,24,1,5,3,28,15,6,21,10,23,19,12,4,\n",
    "                    26,8,16,7,27,20,13,2,41,52,31,37,47,55,30,40,\n",
    "                    51,45,33,48,44,49,39,56,34,53,46,42,50,36,29,32]\n",
    "\n",
    "    def apply64_56(self): \n",
    "        key_56bits = ''\n",
    "        for index in self.pc1:\n",
    "            key_56bits = key_56bits + self.key_64bits[index-1]\n",
    "        return key_56bits    \n",
    "    \n",
    "    def split_in_half(self):\n",
    "        L_key,R_key = self.apply64_56()[:28], self.apply64_56()[28:]\n",
    "        return L_key,R_key\n",
    "    \n",
    "    def circular_left_shift(self,bit_str,shift_num):\n",
    "        shiftedbits = bit_str[shift_num:] + bit_str[:shift_num]\n",
    "        return shiftedbits\n",
    "        \n",
    "    def apply56_48(self,key_56bits):    \n",
    "        key_48bits = ''\n",
    "        for index in self.pc2:\n",
    "            key_48bits = key_48bits + key_56bits[index-1]\n",
    "        return key_48bits            \n",
    "        \n",
    "    def generate_subkey(self):\n",
    "        #parity drop\n",
    "        self.apply64_56()\n",
    "        L0,R0 = self.split_in_half()\n",
    "        for i in range(16):\n",
    "            if (i+1) in [1,2,9,16]:\n",
    "                newL = self.circular_left_shift(L0,1)\n",
    "                newR = self.circular_left_shift(R0,1)\n",
    "            else:\n",
    "                newL = self.circular_left_shift(L0,2)\n",
    "                newR = self.circular_left_shift(R0,2)\n",
    "            \n",
    "            roundkey = self.apply56_48(newL+newR)\n",
    "            self.round_key.append(roundkey)                \n",
    "            L0,R0 = newL,newR\n",
    "        return self.round_key\n",
    "                \n",
    "\n",
    "key_64bits = \"0001001100110100010101110111100110011011101111001101111111110001\"\n",
    "a = sub_key(key_64bits)\n",
    "len(a.generate_subkey())\n",
    "a.generate_subkey()"
   ]
  },
  {
   "cell_type": "code",
   "execution_count": null,
   "metadata": {
    "collapsed": true
   },
   "outputs": [],
   "source": []
  }
 ],
 "metadata": {
  "anaconda-cloud": {},
  "kernelspec": {
   "display_name": "Python [default]",
   "language": "python",
   "name": "python3"
  },
  "language_info": {
   "codemirror_mode": {
    "name": "ipython",
    "version": 3
   },
   "file_extension": ".py",
   "mimetype": "text/x-python",
   "name": "python",
   "nbconvert_exporter": "python",
   "pygments_lexer": "ipython3",
   "version": "3.5.2"
  }
 },
 "nbformat": 4,
 "nbformat_minor": 2
}
