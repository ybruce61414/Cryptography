{
 "cells": [
  {
   "cell_type": "code",
   "execution_count": 9,
   "metadata": {
    "collapsed": false
   },
   "outputs": [
    {
     "data": {
      "text/plain": [
       "17"
      ]
     },
     "execution_count": 9,
     "metadata": {},
     "output_type": "execute_result"
    }
   ],
   "source": [
    "def find_MI(a,b):\n",
    "    #inverse of a modulo b\n",
    "    mod = b\n",
    "    prevx,x=1,0; prevy,y=0,1 \n",
    "    while b:\n",
    "        q = a//b\n",
    "        temp1,temp2 = x,y\n",
    "        x,y = prevx - q*x,prevy - q*y\n",
    "        prevx,prevy =temp1,temp2\n",
    "        a, b = b, a % b\n",
    "    #gcd = a, [a,b] coefficient = [prevx,prevy]\n",
    "    #change to its additive inverse \n",
    "    if prevx < 0:\n",
    "        prevx = mod + prevx\n",
    "    return prevx\n",
    "\n",
    "find_MI(17,32)"
   ]
  },
  {
   "cell_type": "code",
   "execution_count": null,
   "metadata": {
    "collapsed": true
   },
   "outputs": [],
   "source": []
  }
 ],
 "metadata": {
  "anaconda-cloud": {},
  "kernelspec": {
   "display_name": "Python [default]",
   "language": "python",
   "name": "python3"
  },
  "language_info": {
   "codemirror_mode": {
    "name": "ipython",
    "version": 3
   },
   "file_extension": ".py",
   "mimetype": "text/x-python",
   "name": "python",
   "nbconvert_exporter": "python",
   "pygments_lexer": "ipython3",
   "version": "3.5.2"
  }
 },
 "nbformat": 4,
 "nbformat_minor": 2
}
