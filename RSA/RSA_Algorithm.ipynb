{
 "cells": [
  {
   "cell_type": "code",
   "execution_count": 67,
   "metadata": {
    "collapsed": false
   },
   "outputs": [
    {
     "name": "stdout",
     "output_type": "stream",
     "text": [
      "[62453, 63114, 103938] \n",
      " (['p', 'l', 'a'], '(e,d,n)=65537,86273,135137')\n"
     ]
    }
   ],
   "source": [
    "#toy algorithm for rsa encryption \n",
    "import nbimporter,os\n",
    "import random as rd\n",
    "from Miller_Rabin_Test import miller_rabin_test\n",
    "from Extended_euclidean_algorithm import find_MI\n",
    "\n",
    "class RSA():\n",
    "    #initialisation    \n",
    "    def __init__(self):\n",
    "        self.private_key = list()\n",
    "        self.public_key = list()\n",
    "        self.n = list()\n",
    "    \n",
    "    def generate_key(self):\n",
    "        '''default e=65537,n>65537(17 bits),n usually 1024 bit(2**(1024)-1)'''\n",
    "        #pseudorandom number generator\n",
    "        p = rd.randint(2**8+1,2**9) \n",
    "        q = rd.randint(2**8+1,2**9)\n",
    "        \n",
    "        #test if p,q are prime(true:prime / false:composite )\n",
    "        while (not (miller_rabin_test(p) and miller_rabin_test(q))) \\\n",
    "               or p == q:\n",
    "                p = rd.randint(2**8+1,2**9)\n",
    "                q = rd.randint(2**8+1,2**9)      \n",
    "            \n",
    "        #find d(multiplicative inverse of e mod n)\n",
    "        pseudo_n,pseudo_phi = p*q,(p-1)*(q-1)\n",
    "        e = 65537\n",
    "        d = find_MI(e,pseudo_phi)\n",
    "        \n",
    "        self.public_key.append(e)\n",
    "        self.private_key.append(d)\n",
    "        self.n.append(pseudo_n)\n",
    "        return [e,d,pseudo_n]\n",
    " \n",
    "    def encryption(self,plaintext):\n",
    "        cipher = [(ord(char)**self.public_key[0] ) % self.n[0] for char in plaintext]\n",
    "        return cipher\n",
    "    \n",
    "    def decryption(self,ciphertext):\n",
    "        plain = [chr((char**self.private_key[0]) % self.n[0]) for char in ciphertext]\n",
    "        return (plain,'(e,d,n)='\n",
    "                + (str(self.public_key[0])+','+str(self.private_key[0])+','+str(self.n[0])))\n",
    "\n",
    "r = RSA()\n",
    "r.generate_key()\n",
    "\n",
    "message = 'pla'\n",
    "cipher = r.encryption(message)\n",
    "decipher = r.decryption(cipher)\n",
    "print(cipher,'\\n',decipher)"
   ]
  },
  {
   "cell_type": "code",
   "execution_count": null,
   "metadata": {
    "collapsed": true
   },
   "outputs": [],
   "source": []
  }
 ],
 "metadata": {
  "kernelspec": {
   "display_name": "Python [default]",
   "language": "python",
   "name": "python3"
  },
  "language_info": {
   "codemirror_mode": {
    "name": "ipython",
    "version": 3
   },
   "file_extension": ".py",
   "mimetype": "text/x-python",
   "name": "python",
   "nbconvert_exporter": "python",
   "pygments_lexer": "ipython3",
   "version": "3.5.2"
  }
 },
 "nbformat": 4,
 "nbformat_minor": 2
}
