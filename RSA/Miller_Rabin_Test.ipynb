{
 "cells": [
  {
   "cell_type": "code",
   "execution_count": 15,
   "metadata": {
    "collapsed": false
   },
   "outputs": [
    {
     "data": {
      "text/plain": [
       "True"
      ]
     },
     "execution_count": 15,
     "metadata": {},
     "output_type": "execute_result"
    }
   ],
   "source": [
    "#miller rabin test\n",
    "import random as rd\n",
    "\n",
    "def miller_rabin_test(p):\n",
    "    #true:prime / false:composite \n",
    "    if p <= 2:\n",
    "        raise Exception('p should exceed 2. The value of p was: {}'.format(p))\n",
    "    #decompose\n",
    "    phi = p-1\n",
    "    r = 0\n",
    "    while phi % 2 == 0:\n",
    "        phi = phi//2\n",
    "        r = r+1   \n",
    "        \n",
    "    #select a \n",
    "    a = rd.randint(2,p-1)\n",
    "    #starting primality test \n",
    "    b = (a**phi) % p\n",
    "    if b == 1 or b == p-1:\n",
    "        return True\n",
    "    \n",
    "    while r > 1:\n",
    "        b = (b*b) % p\n",
    "        if b == 1:\n",
    "            return False\n",
    "        elif b == p-1:\n",
    "            return True\n",
    "        r = r-1\n",
    "    return False\n",
    "    \n",
    "    \n",
    "miller_rabin_test(5)"
   ]
  },
  {
   "cell_type": "code",
   "execution_count": null,
   "metadata": {
    "collapsed": true
   },
   "outputs": [],
   "source": []
  }
 ],
 "metadata": {
  "anaconda-cloud": {},
  "kernelspec": {
   "display_name": "Python [default]",
   "language": "python",
   "name": "python3"
  },
  "language_info": {
   "codemirror_mode": {
    "name": "ipython",
    "version": 3
   },
   "file_extension": ".py",
   "mimetype": "text/x-python",
   "name": "python",
   "nbconvert_exporter": "python",
   "pygments_lexer": "ipython3",
   "version": "3.5.2"
  }
 },
 "nbformat": 4,
 "nbformat_minor": 2
}
